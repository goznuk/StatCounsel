{
 "cells": [
  {
   "cell_type": "code",
   "execution_count": 1,
   "id": "1d6e8dae-c63b-4170-88f9-35d33075f0f3",
   "metadata": {},
   "outputs": [],
   "source": [
    "import pickle\n",
    "import datetime\n",
    "from pathlib import Path\n",
    "import yaml\n",
    "import numpy as np\n",
    "import pandas as pd\n",
    "from sklearn.model_selection import train_test_split, KFold\n",
    "from sksurv.ensemble import RandomSurvivalForest\n",
    "from sksurv.metrics import concordance_index_censored\n",
    "from sksurv.util import Surv\n",
    "from sklearn.inspection import permutation_importance\n",
    "import optuna\n",
    "import shap\n",
    "from explainability import SHAP\n",
    "from evaluation import evaluate_survival_model, PartialLogLikelihood\n",
    "from training_survival_analysis import train_model\n",
    "from models import MinimalisticNetwork\n",
    "\n",
    "import torch\n",
    "import torch.optim as optim\n",
    "from torch.utils.data import DataLoader, TensorDataset, Dataset\n",
    "\n",
    "\n",
    "# DeepSurv 사용 위한 Dataset 클래스 정의\n",
    "# 간단한 Dataset 클래스: 이미 수치형 데이터로 준비되었다고 가정. 인코딩 후 사용\n",
    "class SimpleDataset(Dataset):\n",
    "    def __init__(self, X, y_time, y_event):\n",
    "        \"\"\"\n",
    "        Args:\n",
    "            X: 입력 특성. Pandas DataFrame 또는 numpy array (수치형 데이터)\n",
    "            y_time: 생존 시간. Pandas Series 또는 numpy array (float)\n",
    "            y_event: 이벤트(실패 여부). Pandas Series 또는 numpy array (0/1 숫자)\n",
    "        \"\"\"\n",
    "        if isinstance(X, pd.DataFrame):\n",
    "            self.X = X.values.astype(np.float32)\n",
    "        else:\n",
    "            self.X = np.asarray(X, dtype=np.float32)\n",
    "        self.y_time = np.asarray(y_time, dtype=np.float32)\n",
    "        self.y_event = np.asarray(y_event, dtype=np.float32)\n",
    "\n",
    "    def __len__(self):\n",
    "        return len(self.X)\n",
    "\n",
    "    def __getitem__(self, index):\n",
    "        return (torch.tensor(self.X[index], dtype=torch.float32),\n",
    "                torch.tensor(self.y_time[index], dtype=torch.float32),\n",
    "                torch.tensor(self.y_event[index], dtype=torch.float32))"
   ]
  },
  {
   "cell_type": "code",
   "execution_count": 2,
   "id": "2ed3dcef-228f-4c84-b337-a78762ac6b69",
   "metadata": {},
   "outputs": [],
   "source": [
    "# ------------------------------\n",
    "# 데이터 로딩 및 전처리 (공통)\n",
    "# ------------------------------\n",
    "df = pd.read_csv(\"processed_survival_data_modified.csv\") # processed_survival_data_modified : Age 범주화한 데이터셋\n",
    "df[\"survival\"] = df[\"survival\"].map({\"survive\": 0, \"fail\": 1}) # 종속변수(수술 성공 여부)를 0, 1로 변환\n",
    "\n",
    "# 코드 통일성을 위해 생존기간, 성공여부 변수 이름 변경\n",
    "time_col = \"fu_total_yr\"\n",
    "event_col = \"survival\"\n",
    "df.rename(columns={event_col: \"vit_status\", time_col: \"survival_time\"}, inplace=True)\n",
    "\n",
    "# 분석 제외할 변수 제거\n",
    "exclude_columns = [\"patient_ID\", \"me\", \"failure_reason\", \"failure_date\", \n",
    "                   \"last_fu_date\", \"surgery_Date\", \"fu_for_fail_yr\", \"fu_for_survival_yr\"]\n",
    "selected_features = [col for col in df.columns if col not in [\"vit_status\", \"survival_time\"] + exclude_columns] # 분석에 사용할 변수만 포함\n",
    "\n",
    "# 지정한 컬럼들에 결측치가 있는 행 제거\n",
    "df = df.dropna(subset = selected_features)\n",
    "\n",
    "# 평가 함수가 기대하는 구조화 배열 생성 (필드명: 'vit_status', 'survival_time')\n",
    "y = np.zeros(df.shape[0], dtype=[('vit_status', '?'), ('survival_time', '<f8')])\n",
    "y['vit_status'] = df[\"vit_status\"].values.astype(bool)\n",
    "y['survival_time'] = df[\"survival_time\"].values.astype(float)\n",
    "\n",
    "X = pd.get_dummies(df[selected_features], drop_first=True) # get_dummies : 범주형 변수에 대해 One-hot encoding\n",
    "X = X.astype(np.float32)"
   ]
  },
  {
   "cell_type": "code",
   "execution_count": 3,
   "id": "f8b5c658-37d8-4880-9416-a69d6d0b3610",
   "metadata": {},
   "outputs": [],
   "source": [
    "# 설정\n",
    "random_state = 1234\n",
    "np.random.seed(random_state)\n",
    "model_name = \"deepsurv\"\n",
    "\n",
    "# ------------------------------\n",
    "# 데이터 분할 및 K-Fold 설정\n",
    "# ------------------------------\n",
    "\n",
    "# Split between Test and Training for Hyperparameter Tuning\n",
    "X_train, X_test, y_train, y_test = train_test_split(X, y, test_size=0.1, random_state=random_state)\n",
    "kfold = KFold(n_splits=5, shuffle=True, random_state=random_state)\n",
    "\n",
    "# DeepSurv 입력값에 맞게 tensor 형태로 변환\n",
    "X_train_tensor = torch.tensor(X_train.values, dtype=torch.float32)\n",
    "y_train_time = pd.Series(y_train['survival_time'])\n",
    "y_train_event = pd.Series(y_train['vit_status'])\n",
    "y_train_time_tensor = torch.tensor(np.ascontiguousarray(y_train_time.values), dtype=torch.float32)\n",
    "y_train_event_tensor = torch.tensor(np.ascontiguousarray(y_train_event.values), dtype=torch.float32)\n",
    "train_dataset = TensorDataset(X_train_tensor, y_train_time_tensor, y_train_event_tensor)\n",
    "\n",
    "# ------------------------------\n",
    "# config.yaml 불러오기 및 RSF 파라미터 갱신\n",
    "# ------------------------------\n",
    "config = yaml.safe_load(Path(\"./config.yaml\").read_text())\n",
    "base_path = config[\"base_path\"]\n",
    "deepsurv_config = config[\"deep_surv\"]\n",
    "device = config[\"device\"]\n",
    "\n",
    "stable_params = {\n",
    "    \"device\": device,\n",
    "    \"input_dim\": X_train.shape[1],\n",
    "    \"loss_fn\": PartialLogLikelihood,\n",
    "    \"epochs\": 300, # epochs 300개 사용\n",
    "    \"model\": \"minimalistic_network\"\n",
    "    }"
   ]
  },
  {
   "cell_type": "code",
   "execution_count": 4,
   "id": "67e12158-095b-41c8-a8a8-5b7ad6db2aac",
   "metadata": {},
   "outputs": [],
   "source": [
    "# ------------------------------\n",
    "# Optuna Objective 함수 정의 (DeepSurv)\n",
    "# ------------------------------\n",
    "\n",
    "def objective_deep_surv(trial: optuna.Trial, stable_params):\n",
    "    # Hyperparameter 범위 설정\n",
    "    flexible_params = {\n",
    "        \"batch_size\": trial.suggest_categorical(\"batch_size\", deepsurv_config[\"batch_size\"]),\n",
    "        \"inner_dim\": trial.suggest_categorical(\"inner_dim\", deepsurv_config[\"inner_dim\"]),\n",
    "        \"lr\": trial.suggest_categorical(\"lr\", deepsurv_config[\"lr\"]),\n",
    "        \"weight_decay\": trial.suggest_categorical(\"weight_decay\", deepsurv_config[\"weight_decay\"])\n",
    "    }\n",
    "    params = {**stable_params, **flexible_params}\n",
    "    scores = []\n",
    "\n",
    "    \n",
    "    # dataset_test는 전체 테스트 세트를 사용 (전역 X_test)\n",
    "    dataset_test = torch.Tensor(X_test.values)\n",
    "    \n",
    "    for train_idx, val_idx in kfold.split(X_train, y_train):\n",
    "        X_train_fold = X_train.iloc[train_idx]\n",
    "        X_val_fold = X_train.iloc[val_idx]\n",
    "\n",
    "        # Class 변환\n",
    "        dataset_train = SimpleDataset(\n",
    "            X_train_fold,\n",
    "            pd.Series(y_train['survival_time'][train_idx]),\n",
    "            pd.Series(y_train['vit_status'][train_idx])\n",
    "        )\n",
    "        \n",
    "        # 모델 생성 및 학습 (train_model 함수 호출)\n",
    "        model, losses, test_eval = train_model(dataset_train, params, trial=trial) # K-fold training data로 model fitting\n",
    "        model.eval()\n",
    "        y_pred = model(dataset_test.to(params[\"device\"])).detach().cpu().numpy() # test data로 예측값 계산\n",
    "        y_pred = y_pred + np.random.random(y_pred.shape) * 1e-7\n",
    "        \n",
    "        # 평가: 여기서는 각 fold에 대해 evaluate_survival_model의 c_index (Concordance Index)를 사용\n",
    "        try:\n",
    "            fold_score = concordance_index_censored(y_test[\"vit_status\"], y_test[\"survival_time\"], np.squeeze(y_pred))[0]\n",
    "        except ValueError as e:\n",
    "            print(f\"Fold evaluation skipped due to error: {e}\") # 예측값에 성공/실패 중 하나가 아예 없는 경우 오류 발생. 해당 과정 스킵\n",
    "            continue\n",
    "        scores.append(fold_score)\n",
    "    \n",
    "    if len(scores) == 0:\n",
    "        # 모든 fold에서 오류가 발생한 경우, 기본값 반환 (예: 0)\n",
    "        score = 0.0\n",
    "    else:\n",
    "        score = np.mean(scores)\n",
    "    trial_nr = trial.number\n",
    "    print(f\"Trial {trial_nr}: {score}\")\n",
    "    \n",
    "    return score"
   ]
  },
  {
   "cell_type": "code",
   "execution_count": null,
   "id": "6a77b62a-813d-4cfc-b0ee-1f64d643e8f3",
   "metadata": {},
   "outputs": [
    {
     "name": "stderr",
     "output_type": "stream",
     "text": [
      "[I 2025-03-05 20:44:02,460] A new study created in memory with name: deepsurv2025-03-05 20:44:02.458553\n",
      "[I 2025-03-05 20:44:25,063] Trial 0 finished with value: 0.588157894736842 and parameters: {'batch_size': 3540, 'inner_dim': 64, 'lr': 0.001, 'weight_decay': 5}. Best is trial 0 with value: 0.588157894736842.\n"
     ]
    },
    {
     "name": "stdout",
     "output_type": "stream",
     "text": [
      "Trial 0: 0.588157894736842\n"
     ]
    },
    {
     "name": "stderr",
     "output_type": "stream",
     "text": [
      "[I 2025-03-05 20:44:46,568] Trial 1 finished with value: 0.475 and parameters: {'batch_size': 512, 'inner_dim': 16, 'lr': 5e-05, 'weight_decay': 5}. Best is trial 0 with value: 0.588157894736842.\n"
     ]
    },
    {
     "name": "stdout",
     "output_type": "stream",
     "text": [
      "Trial 1: 0.475\n"
     ]
    },
    {
     "name": "stderr",
     "output_type": "stream",
     "text": [
      "[I 2025-03-05 20:45:07,898] Trial 2 finished with value: 0.5526315789473685 and parameters: {'batch_size': 1024, 'inner_dim': 16, 'lr': 0.0005, 'weight_decay': 1}. Best is trial 0 with value: 0.588157894736842.\n"
     ]
    },
    {
     "name": "stdout",
     "output_type": "stream",
     "text": [
      "Trial 2: 0.5526315789473685\n"
     ]
    },
    {
     "name": "stderr",
     "output_type": "stream",
     "text": [
      "[I 2025-03-05 20:45:29,191] Trial 3 finished with value: 0.5144736842105264 and parameters: {'batch_size': 512, 'inner_dim': 8, 'lr': 0.0001, 'weight_decay': 5}. Best is trial 0 with value: 0.588157894736842.\n"
     ]
    },
    {
     "name": "stdout",
     "output_type": "stream",
     "text": [
      "Trial 3: 0.5144736842105264\n"
     ]
    },
    {
     "name": "stderr",
     "output_type": "stream",
     "text": [
      "[I 2025-03-05 20:45:50,656] Trial 4 finished with value: 0.6026315789473684 and parameters: {'batch_size': 1024, 'inner_dim': 32, 'lr': 5e-05, 'weight_decay': 1}. Best is trial 4 with value: 0.6026315789473684.\n"
     ]
    },
    {
     "name": "stdout",
     "output_type": "stream",
     "text": [
      "Trial 4: 0.6026315789473684\n"
     ]
    },
    {
     "name": "stderr",
     "output_type": "stream",
     "text": [
      "[I 2025-03-05 20:46:11,982] Trial 5 finished with value: 0.5776315789473684 and parameters: {'batch_size': 1770, 'inner_dim': 64, 'lr': 0.0005, 'weight_decay': 0.001}. Best is trial 4 with value: 0.6026315789473684.\n"
     ]
    },
    {
     "name": "stdout",
     "output_type": "stream",
     "text": [
      "Trial 5: 0.5776315789473684\n"
     ]
    },
    {
     "name": "stderr",
     "output_type": "stream",
     "text": [
      "[I 2025-03-05 20:46:33,234] Trial 6 finished with value: 0.4723684210526316 and parameters: {'batch_size': 512, 'inner_dim': 8, 'lr': 0.001, 'weight_decay': 5}. Best is trial 4 with value: 0.6026315789473684.\n"
     ]
    },
    {
     "name": "stdout",
     "output_type": "stream",
     "text": [
      "Trial 6: 0.4723684210526316\n"
     ]
    },
    {
     "name": "stderr",
     "output_type": "stream",
     "text": [
      "[I 2025-03-05 20:46:54,684] Trial 7 finished with value: 0.5394736842105263 and parameters: {'batch_size': 3540, 'inner_dim': 32, 'lr': 0.0005, 'weight_decay': 1}. Best is trial 4 with value: 0.6026315789473684.\n"
     ]
    },
    {
     "name": "stdout",
     "output_type": "stream",
     "text": [
      "Trial 7: 0.5394736842105263\n"
     ]
    },
    {
     "name": "stderr",
     "output_type": "stream",
     "text": [
      "[I 2025-03-05 20:47:16,015] Trial 8 finished with value: 0.5394736842105263 and parameters: {'batch_size': 3540, 'inner_dim': 16, 'lr': 1e-05, 'weight_decay': 1}. Best is trial 4 with value: 0.6026315789473684.\n"
     ]
    },
    {
     "name": "stdout",
     "output_type": "stream",
     "text": [
      "Trial 8: 0.5394736842105263\n"
     ]
    },
    {
     "name": "stderr",
     "output_type": "stream",
     "text": [
      "[I 2025-03-05 20:47:37,314] Trial 9 finished with value: 0.6013157894736842 and parameters: {'batch_size': 1770, 'inner_dim': 32, 'lr': 5e-05, 'weight_decay': 0.1}. Best is trial 4 with value: 0.6026315789473684.\n"
     ]
    },
    {
     "name": "stdout",
     "output_type": "stream",
     "text": [
      "Trial 9: 0.6013157894736842\n"
     ]
    },
    {
     "name": "stderr",
     "output_type": "stream",
     "text": [
      "[I 2025-03-05 20:47:58,746] Trial 10 finished with value: 0.6013157894736842 and parameters: {'batch_size': 1024, 'inner_dim': 32, 'lr': 5e-05, 'weight_decay': 0.01}. Best is trial 4 with value: 0.6026315789473684.\n"
     ]
    },
    {
     "name": "stdout",
     "output_type": "stream",
     "text": [
      "Trial 10: 0.6013157894736842\n"
     ]
    },
    {
     "name": "stderr",
     "output_type": "stream",
     "text": [
      "[I 2025-03-05 20:48:20,058] Trial 11 finished with value: 0.6013157894736842 and parameters: {'batch_size': 1770, 'inner_dim': 32, 'lr': 5e-05, 'weight_decay': 0.1}. Best is trial 4 with value: 0.6026315789473684.\n"
     ]
    },
    {
     "name": "stdout",
     "output_type": "stream",
     "text": [
      "Trial 11: 0.6013157894736842\n"
     ]
    },
    {
     "name": "stderr",
     "output_type": "stream",
     "text": [
      "[I 2025-03-05 20:48:41,341] Trial 12 finished with value: 0.6013157894736842 and parameters: {'batch_size': 1024, 'inner_dim': 32, 'lr': 5e-05, 'weight_decay': 0.1}. Best is trial 4 with value: 0.6026315789473684.\n"
     ]
    },
    {
     "name": "stdout",
     "output_type": "stream",
     "text": [
      "Trial 12: 0.6013157894736842\n"
     ]
    },
    {
     "name": "stderr",
     "output_type": "stream",
     "text": [
      "[I 2025-03-05 20:49:02,737] Trial 13 finished with value: 0.6013157894736842 and parameters: {'batch_size': 1770, 'inner_dim': 32, 'lr': 5e-05, 'weight_decay': 0.0}. Best is trial 4 with value: 0.6026315789473684.\n"
     ]
    },
    {
     "name": "stdout",
     "output_type": "stream",
     "text": [
      "Trial 13: 0.6013157894736842\n"
     ]
    },
    {
     "name": "stderr",
     "output_type": "stream",
     "text": [
      "[I 2025-03-05 20:49:24,046] Trial 14 finished with value: 0.6092105263157894 and parameters: {'batch_size': 1024, 'inner_dim': 32, 'lr': 1e-05, 'weight_decay': 0.1}. Best is trial 14 with value: 0.6092105263157894.\n"
     ]
    },
    {
     "name": "stdout",
     "output_type": "stream",
     "text": [
      "Trial 14: 0.6092105263157894\n"
     ]
    },
    {
     "name": "stderr",
     "output_type": "stream",
     "text": [
      "[I 2025-03-05 20:49:45,322] Trial 15 finished with value: 0.6092105263157894 and parameters: {'batch_size': 1024, 'inner_dim': 32, 'lr': 1e-05, 'weight_decay': 0.001}. Best is trial 14 with value: 0.6092105263157894.\n"
     ]
    },
    {
     "name": "stdout",
     "output_type": "stream",
     "text": [
      "Trial 15: 0.6092105263157894\n"
     ]
    },
    {
     "name": "stderr",
     "output_type": "stream",
     "text": [
      "[I 2025-03-05 20:50:06,740] Trial 16 finished with value: 0.6092105263157894 and parameters: {'batch_size': 1024, 'inner_dim': 32, 'lr': 1e-05, 'weight_decay': 0.001}. Best is trial 14 with value: 0.6092105263157894.\n"
     ]
    },
    {
     "name": "stdout",
     "output_type": "stream",
     "text": [
      "Trial 16: 0.6092105263157894\n"
     ]
    },
    {
     "name": "stderr",
     "output_type": "stream",
     "text": [
      "[I 2025-03-05 20:50:28,011] Trial 17 finished with value: 0.6078947368421053 and parameters: {'batch_size': 1024, 'inner_dim': 8, 'lr': 1e-05, 'weight_decay': 0.001}. Best is trial 14 with value: 0.6092105263157894.\n"
     ]
    },
    {
     "name": "stdout",
     "output_type": "stream",
     "text": [
      "Trial 17: 0.6078947368421053\n"
     ]
    }
   ],
   "source": [
    "# Optuna 스터디 생성 및 최적화\n",
    "study = optuna.create_study(study_name=model_name+str(datetime.datetime.now()),\n",
    "                            direction=\"maximize\",\n",
    "                            sampler=optuna.samplers.TPESampler(seed=random_state))\n",
    "study.optimize(lambda trial: objective_deep_surv(trial, stable_params), n_trials=50)\n",
    "best_params = study.best_trial.params\n",
    "print(\"Best DeepSurv params:\", best_params) # 50번의 Trial로 찾은 최선의 Hyperparameter"
   ]
  },
  {
   "cell_type": "code",
   "execution_count": null,
   "id": "d82124dc-7a23-421e-938f-7591b5131da9",
   "metadata": {},
   "outputs": [],
   "source": [
    "# 최종 모델 학습\n",
    "for i, (train_fold , val_fold) in enumerate(kfold.split(X_train, y_train)):\n",
    "    X_train_fold = X_train.iloc[train_fold]\n",
    "    X_val_fold = X_train.iloc[val_fold]\n",
    "    dataset_train = SimpleDataset(X_train_fold, y_train[\"vit_status\"][train_fold], y_train[\"survival_time\"][train_fold])\n",
    "    best_model, losses, test_eval = train_model(dataset_train, {**stable_params, **best_params})\n",
    "    best_model.eval()\n",
    "    y_pred = best_model(torch.Tensor(X_val_fold.values).to(stable_params[\"device\"])).detach().cpu().numpy()\n",
    "    scores = evaluate_survival_model(best_model, X_val_fold.values, y_train[train_fold],\n",
    "                                                y_train[val_fold])\n",
    "    print(f\"Final DeepSurv Scores in Fold {i}: {scores}\")\n",
    "\n",
    "    result = permutation_importance(\n",
    "    best_model, X_val_fold, y_train[val_fold], n_repeats=15, random_state=random_state,\n",
    "            )\n",
    "    result_dict = {k: result[k] for k in (\"importances_mean\", \"importances_std\")}\n",
    "    permutation_importances = pd.DataFrame(\n",
    "            result_dict,\n",
    "            index=X_val_fold.columns).sort_values(by=\"importances_mean\", ascending=False)\n",
    "    print(f\"Permutation Importances:\")\n",
    "    print(permutation_importances)\n",
    "    explainer = shap.Explainer(best_model.predict, X_val_fold)\n",
    "    shap_values = explainer(X_val_fold)\n",
    "    shap.plots.beeswarm(shap_values)\n"
   ]
  }
 ],
 "metadata": {
  "kernelspec": {
   "display_name": "Python 3 (ipykernel)",
   "language": "python",
   "name": "python3"
  },
  "language_info": {
   "codemirror_mode": {
    "name": "ipython",
    "version": 3
   },
   "file_extension": ".py",
   "mimetype": "text/x-python",
   "name": "python",
   "nbconvert_exporter": "python",
   "pygments_lexer": "ipython3",
   "version": "3.10.12"
  }
 },
 "nbformat": 4,
 "nbformat_minor": 5
}
