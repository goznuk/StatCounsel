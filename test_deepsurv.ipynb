{
 "cells": [
  {
   "cell_type": "code",
   "execution_count": 1,
   "id": "1d6e8dae-c63b-4170-88f9-35d33075f0f3",
   "metadata": {},
   "outputs": [],
   "source": [
    "import pickle\n",
    "import datetime\n",
    "from pathlib import Path\n",
    "import yaml\n",
    "import numpy as np\n",
    "import pandas as pd\n",
    "from sklearn.model_selection import train_test_split, KFold\n",
    "from sksurv.ensemble import RandomSurvivalForest\n",
    "from sksurv.metrics import concordance_index_censored\n",
    "from sksurv.util import Surv\n",
    "from sklearn.inspection import permutation_importance\n",
    "import optuna\n",
    "import shap\n",
    "from explainability import SHAP\n",
    "from evaluation import evaluate_survival_model, PartialLogLikelihood\n",
    "from training_survival_analysis import train_model\n",
    "from models import MinimalisticNetwork\n",
    "import matplotlib.pyplot as plt\n",
    "import json\n",
    "\n",
    "import torch\n",
    "import torch.optim as optim\n",
    "from torch.utils.data import DataLoader, TensorDataset, Dataset\n",
    "\n",
    "\n",
    "# DeepSurv 사용 위한 Dataset 클래스 정의\n",
    "# 간단한 Dataset 클래스: 이미 수치형 데이터로 준비되었다고 가정. 인코딩 후 사용\n",
    "class SimpleDataset(Dataset):\n",
    "    def __init__(self, X, y_time, y_event):\n",
    "        \"\"\"\n",
    "        Args:\n",
    "            X: 입력 특성. Pandas DataFrame 또는 numpy array (수치형 데이터)\n",
    "            y_time: 생존 시간. Pandas Series 또는 numpy array (float)\n",
    "            y_event: 이벤트(실패 여부). Pandas Series 또는 numpy array (0/1 숫자)\n",
    "        \"\"\"\n",
    "        if isinstance(X, pd.DataFrame):\n",
    "            self.X = X.values.astype(np.float32)\n",
    "        else:\n",
    "            self.X = np.asarray(X, dtype=np.float32)\n",
    "        self.y_time = np.asarray(y_time, dtype=np.float32)\n",
    "        self.y_event = np.asarray(y_event, dtype=np.float32)\n",
    "\n",
    "    def __len__(self):\n",
    "        return len(self.X)\n",
    "\n",
    "    def __getitem__(self, index):\n",
    "        return (torch.tensor(self.X[index], dtype=torch.float32),\n",
    "                torch.tensor(self.y_time[index], dtype=torch.float32),\n",
    "                torch.tensor(self.y_event[index], dtype=torch.float32))"
   ]
  },
  {
   "cell_type": "code",
   "execution_count": 2,
   "id": "2ed3dcef-228f-4c84-b337-a78762ac6b69",
   "metadata": {},
   "outputs": [],
   "source": [
    "# ------------------------------\n",
    "# 데이터 로딩 및 전처리 (공통)\n",
    "# ------------------------------\n",
    "df = pd.read_csv(\"processed_survival_data_modified.csv\") # processed_survival_data_modified : Age 범주화한 데이터셋\n",
    "df[\"survival\"] = df[\"survival\"].map({\"survive\": 0, \"fail\": 1}) # 종속변수(수술 성공 여부)를 0, 1로 변환\n",
    "\n",
    "# 코드 통일성을 위해 생존기간, 성공여부 변수 이름 변경\n",
    "time_col = \"fu_total_yr\"\n",
    "event_col = \"survival\"\n",
    "df.rename(columns={event_col: \"vit_status\", time_col: \"survival_time\"}, inplace=True)\n",
    "\n",
    "# 분석 제외할 변수 제거\n",
    "exclude_columns = [\"patient_ID\", \"me\", \"failure_reason\", \"failure_date\", \n",
    "                   \"last_fu_date\", \"surgery_Date\", \"fu_for_fail_yr\", \"fu_for_survival_yr\"]\n",
    "selected_features = [col for col in df.columns if col not in [\"vit_status\", \"survival_time\"] + exclude_columns] # 분석에 사용할 변수만 포함\n",
    "\n",
    "# 지정한 컬럼들에 결측치가 있는 행 제거\n",
    "df = df.dropna(subset = selected_features)\n",
    "\n",
    "############### One-hot encoding ##############\n",
    "# 평가 함수가 기대하는 구조화 배열 생성 (필드명: 'vit_status', 'survival_time')\n",
    "y = np.zeros(df.shape[0], dtype=[('vit_status', '?'), ('survival_time', '<f8')])\n",
    "y['vit_status'] = df[\"vit_status\"].values.astype(bool)\n",
    "y['survival_time'] = df[\"survival_time\"].values.astype(float)\n",
    "\n",
    "X = pd.get_dummies(df[selected_features], drop_first=True) # get_dummies : 범주형 변수에 대해 One-hot encoding\n",
    "X = X.astype(np.float32)\n",
    "############### One-hot encoding ##############\n",
    "\n",
    "# ############### Label encoding ##############\n",
    "# # 평가 함수가 기대하는 구조화 배열 생성 (필드명: 'vit_status', 'survival_time')\n",
    "# y = np.zeros(df.shape[0], dtype=[('vit_status', '?'), ('survival_time', '<f8')])\n",
    "# y['vit_status'] = df[\"vit_status\"].values.astype(bool)\n",
    "# y['survival_time'] = df[\"survival_time\"].values.astype(float)\n",
    "\n",
    "# # label encoding: 각 범주형 변수를 category형으로 변환 후, 코드화\n",
    "# for col in selected_features:\n",
    "#     if df[col].dtype == 'object' or str(df[col].dtype).startswith('category'):\n",
    "#         df[col] = df[col].astype('category').cat.codes\n",
    "\n",
    "# # 최종 X 데이터셋 생성 (필요한 경우, float32 타입으로 변환)\n",
    "# X = df[selected_features].values.astype(np.float32)\n",
    "# ############### Label encoding ##############"
   ]
  },
  {
   "cell_type": "code",
   "execution_count": 3,
   "id": "f8b5c658-37d8-4880-9416-a69d6d0b3610",
   "metadata": {},
   "outputs": [],
   "source": [
    "# 설정\n",
    "random_state = 1234\n",
    "np.random.seed(random_state)\n",
    "model_name = \"deepsurv\"\n",
    "\n",
    "# ------------------------------\n",
    "# 데이터 분할 및 K-Fold 설정\n",
    "# ------------------------------\n",
    "\n",
    "# Split between Test and Training for Hyperparameter Tuning\n",
    "X_train, X_test, y_train, y_test = train_test_split(X, y, test_size=0.1, random_state=random_state)\n",
    "kfold = KFold(n_splits=5, shuffle=True, random_state=random_state)\n",
    "\n",
    "# DeepSurv 입력값에 맞게 tensor 형태로 변환\n",
    "X_train_tensor = torch.tensor(X_train.values, dtype=torch.float32)\n",
    "y_train_time = pd.Series(y_train['survival_time'])\n",
    "y_train_event = pd.Series(y_train['vit_status'])\n",
    "y_train_time_tensor = torch.tensor(np.ascontiguousarray(y_train_time.values), dtype=torch.float32)\n",
    "y_train_event_tensor = torch.tensor(np.ascontiguousarray(y_train_event.values), dtype=torch.float32)\n",
    "train_dataset = TensorDataset(X_train_tensor, y_train_time_tensor, y_train_event_tensor)\n",
    "\n",
    "# ------------------------------\n",
    "# config.yaml 불러오기 및 RSF 파라미터 갱신\n",
    "# ------------------------------\n",
    "config = yaml.safe_load(Path(\"./config.yaml\").read_text())\n",
    "base_path = config[\"base_path\"]\n",
    "deepsurv_config = config[\"deep_surv\"]\n",
    "device = config[\"device\"]\n",
    "\n",
    "stable_params = {\n",
    "    \"device\": device,\n",
    "    \"input_dim\": X_train.shape[1],\n",
    "    \"loss_fn\": PartialLogLikelihood,\n",
    "    \"epochs\": 300, # epochs 300개 사용\n",
    "    \"model\": \"minimalistic_network\"\n",
    "    }"
   ]
  },
  {
   "cell_type": "code",
   "execution_count": 4,
   "id": "67e12158-095b-41c8-a8a8-5b7ad6db2aac",
   "metadata": {},
   "outputs": [],
   "source": [
    "# ------------------------------\n",
    "# Optuna Objective 함수 정의 (DeepSurv)\n",
    "# ------------------------------\n",
    "\n",
    "def objective_deep_surv(trial: optuna.Trial, stable_params):\n",
    "    # Hyperparameter 범위 설정\n",
    "    flexible_params = {\n",
    "        \"batch_size\": trial.suggest_categorical(\"batch_size\", deepsurv_config[\"batch_size\"]),\n",
    "        \"inner_dim\": trial.suggest_categorical(\"inner_dim\", deepsurv_config[\"inner_dim\"]),\n",
    "        \"lr\": trial.suggest_categorical(\"lr\", deepsurv_config[\"lr\"]),\n",
    "        \"weight_decay\": trial.suggest_categorical(\"weight_decay\", deepsurv_config[\"weight_decay\"])\n",
    "    }\n",
    "    params = {**stable_params, **flexible_params}\n",
    "    scores = []\n",
    "\n",
    "    \n",
    "    # dataset_test는 전체 테스트 세트를 사용 (전역 X_test)\n",
    "    dataset_test = torch.Tensor(X_test.values)\n",
    "    \n",
    "    for train_idx, val_idx in kfold.split(X_train, y_train):\n",
    "        X_train_fold = X_train.iloc[train_idx]\n",
    "        X_val_fold = X_train.iloc[val_idx]\n",
    "\n",
    "        # Class 변환\n",
    "        dataset_train = SimpleDataset(\n",
    "            X_train_fold,\n",
    "            pd.Series(y_train['survival_time'][train_idx]),\n",
    "            pd.Series(y_train['vit_status'][train_idx])\n",
    "        )\n",
    "        \n",
    "        # 모델 생성 및 학습 (train_model 함수 호출)\n",
    "        model, losses, test_eval = train_model(dataset_train, params, trial=trial) # K-fold training data로 model fitting\n",
    "        model.eval()\n",
    "        y_pred = model(dataset_test.to(params[\"device\"])).detach().cpu().numpy() # test data로 예측값 계산\n",
    "        y_pred = y_pred + np.random.random(y_pred.shape) * 1e-7\n",
    "        \n",
    "        # 평가: 여기서는 각 fold에 대해 evaluate_survival_model의 c_index (Concordance Index)를 사용\n",
    "        try:\n",
    "            fold_score = concordance_index_censored(y_test[\"vit_status\"], y_test[\"survival_time\"], np.squeeze(y_pred))[0]\n",
    "        except ValueError as e:\n",
    "            print(f\"Fold evaluation skipped due to error: {e}\") # 예측값에 성공/실패 중 하나가 아예 없는 경우 오류 발생. 해당 과정 스킵\n",
    "            continue\n",
    "        scores.append(fold_score)\n",
    "    \n",
    "    if len(scores) == 0:\n",
    "        # 모든 fold에서 오류가 발생한 경우, 기본값 반환 (예: 0)\n",
    "        score = 0.0\n",
    "    else:\n",
    "        score = np.mean(scores)\n",
    "    trial_nr = trial.number\n",
    "    print(f\"Trial {trial_nr}: {score}\")\n",
    "    \n",
    "    return score"
   ]
  },
  {
   "cell_type": "code",
   "execution_count": 5,
   "id": "6a77b62a-813d-4cfc-b0ee-1f64d643e8f3",
   "metadata": {},
   "outputs": [
    {
     "name": "stderr",
     "output_type": "stream",
     "text": [
      "[I 2025-03-06 16:47:34,427] A new study created in memory with name: deepsurv2025-03-06 16:47:34.425738\n",
      "[I 2025-03-06 16:47:57,746] Trial 0 finished with value: 0.588157894736842 and parameters: {'batch_size': 3540, 'inner_dim': 64, 'lr': 0.001, 'weight_decay': 5}. Best is trial 0 with value: 0.588157894736842.\n"
     ]
    },
    {
     "name": "stdout",
     "output_type": "stream",
     "text": [
      "Trial 0: 0.588157894736842\n"
     ]
    },
    {
     "name": "stderr",
     "output_type": "stream",
     "text": [
      "[I 2025-03-06 16:48:21,253] Trial 1 finished with value: 0.475 and parameters: {'batch_size': 512, 'inner_dim': 16, 'lr': 5e-05, 'weight_decay': 5}. Best is trial 0 with value: 0.588157894736842.\n"
     ]
    },
    {
     "name": "stdout",
     "output_type": "stream",
     "text": [
      "Trial 1: 0.475\n"
     ]
    },
    {
     "name": "stderr",
     "output_type": "stream",
     "text": [
      "[I 2025-03-06 16:48:46,466] Trial 2 finished with value: 0.5526315789473685 and parameters: {'batch_size': 1024, 'inner_dim': 16, 'lr': 0.0005, 'weight_decay': 1}. Best is trial 0 with value: 0.588157894736842.\n"
     ]
    },
    {
     "name": "stdout",
     "output_type": "stream",
     "text": [
      "Trial 2: 0.5526315789473685\n"
     ]
    },
    {
     "name": "stderr",
     "output_type": "stream",
     "text": [
      "[I 2025-03-06 16:49:09,179] Trial 3 finished with value: 0.5144736842105264 and parameters: {'batch_size': 512, 'inner_dim': 8, 'lr': 0.0001, 'weight_decay': 5}. Best is trial 0 with value: 0.588157894736842.\n"
     ]
    },
    {
     "name": "stdout",
     "output_type": "stream",
     "text": [
      "Trial 3: 0.5144736842105264\n"
     ]
    },
    {
     "name": "stderr",
     "output_type": "stream",
     "text": [
      "[I 2025-03-06 16:49:32,612] Trial 4 finished with value: 0.6026315789473684 and parameters: {'batch_size': 1024, 'inner_dim': 32, 'lr': 5e-05, 'weight_decay': 1}. Best is trial 4 with value: 0.6026315789473684.\n"
     ]
    },
    {
     "name": "stdout",
     "output_type": "stream",
     "text": [
      "Trial 4: 0.6026315789473684\n"
     ]
    },
    {
     "name": "stderr",
     "output_type": "stream",
     "text": [
      "[I 2025-03-06 16:49:55,586] Trial 5 finished with value: 0.5776315789473684 and parameters: {'batch_size': 1770, 'inner_dim': 64, 'lr': 0.0005, 'weight_decay': 0.001}. Best is trial 4 with value: 0.6026315789473684.\n"
     ]
    },
    {
     "name": "stdout",
     "output_type": "stream",
     "text": [
      "Trial 5: 0.5776315789473684\n"
     ]
    },
    {
     "name": "stderr",
     "output_type": "stream",
     "text": [
      "[I 2025-03-06 16:50:18,927] Trial 6 finished with value: 0.4723684210526316 and parameters: {'batch_size': 512, 'inner_dim': 8, 'lr': 0.001, 'weight_decay': 5}. Best is trial 4 with value: 0.6026315789473684.\n"
     ]
    },
    {
     "name": "stdout",
     "output_type": "stream",
     "text": [
      "Trial 6: 0.4723684210526316\n"
     ]
    },
    {
     "name": "stderr",
     "output_type": "stream",
     "text": [
      "[I 2025-03-06 16:50:42,110] Trial 7 finished with value: 0.5394736842105263 and parameters: {'batch_size': 3540, 'inner_dim': 32, 'lr': 0.0005, 'weight_decay': 1}. Best is trial 4 with value: 0.6026315789473684.\n"
     ]
    },
    {
     "name": "stdout",
     "output_type": "stream",
     "text": [
      "Trial 7: 0.5394736842105263\n"
     ]
    },
    {
     "name": "stderr",
     "output_type": "stream",
     "text": [
      "[I 2025-03-06 16:51:05,253] Trial 8 finished with value: 0.5394736842105263 and parameters: {'batch_size': 3540, 'inner_dim': 16, 'lr': 1e-05, 'weight_decay': 1}. Best is trial 4 with value: 0.6026315789473684.\n"
     ]
    },
    {
     "name": "stdout",
     "output_type": "stream",
     "text": [
      "Trial 8: 0.5394736842105263\n"
     ]
    },
    {
     "name": "stderr",
     "output_type": "stream",
     "text": [
      "[I 2025-03-06 16:51:27,419] Trial 9 finished with value: 0.6013157894736842 and parameters: {'batch_size': 1770, 'inner_dim': 32, 'lr': 5e-05, 'weight_decay': 0.1}. Best is trial 4 with value: 0.6026315789473684.\n"
     ]
    },
    {
     "name": "stdout",
     "output_type": "stream",
     "text": [
      "Trial 9: 0.6013157894736842\n"
     ]
    },
    {
     "name": "stderr",
     "output_type": "stream",
     "text": [
      "[I 2025-03-06 16:51:51,245] Trial 10 finished with value: 0.6013157894736842 and parameters: {'batch_size': 1024, 'inner_dim': 32, 'lr': 5e-05, 'weight_decay': 0.01}. Best is trial 4 with value: 0.6026315789473684.\n"
     ]
    },
    {
     "name": "stdout",
     "output_type": "stream",
     "text": [
      "Trial 10: 0.6013157894736842\n"
     ]
    },
    {
     "name": "stderr",
     "output_type": "stream",
     "text": [
      "[I 2025-03-06 16:52:14,661] Trial 11 finished with value: 0.6013157894736842 and parameters: {'batch_size': 1770, 'inner_dim': 32, 'lr': 5e-05, 'weight_decay': 0.1}. Best is trial 4 with value: 0.6026315789473684.\n"
     ]
    },
    {
     "name": "stdout",
     "output_type": "stream",
     "text": [
      "Trial 11: 0.6013157894736842\n"
     ]
    },
    {
     "name": "stderr",
     "output_type": "stream",
     "text": [
      "[I 2025-03-06 16:52:41,291] Trial 12 finished with value: 0.6013157894736842 and parameters: {'batch_size': 1024, 'inner_dim': 32, 'lr': 5e-05, 'weight_decay': 0.1}. Best is trial 4 with value: 0.6026315789473684.\n"
     ]
    },
    {
     "name": "stdout",
     "output_type": "stream",
     "text": [
      "Trial 12: 0.6013157894736842\n"
     ]
    },
    {
     "name": "stderr",
     "output_type": "stream",
     "text": [
      "[I 2025-03-06 16:53:04,858] Trial 13 finished with value: 0.6013157894736842 and parameters: {'batch_size': 1770, 'inner_dim': 32, 'lr': 5e-05, 'weight_decay': 0.0}. Best is trial 4 with value: 0.6026315789473684.\n"
     ]
    },
    {
     "name": "stdout",
     "output_type": "stream",
     "text": [
      "Trial 13: 0.6013157894736842\n"
     ]
    },
    {
     "name": "stderr",
     "output_type": "stream",
     "text": [
      "[I 2025-03-06 16:53:28,151] Trial 14 finished with value: 0.6092105263157894 and parameters: {'batch_size': 1024, 'inner_dim': 32, 'lr': 1e-05, 'weight_decay': 0.1}. Best is trial 14 with value: 0.6092105263157894.\n"
     ]
    },
    {
     "name": "stdout",
     "output_type": "stream",
     "text": [
      "Trial 14: 0.6092105263157894\n"
     ]
    },
    {
     "name": "stderr",
     "output_type": "stream",
     "text": [
      "[I 2025-03-06 16:53:51,035] Trial 15 finished with value: 0.6092105263157894 and parameters: {'batch_size': 1024, 'inner_dim': 32, 'lr': 1e-05, 'weight_decay': 0.001}. Best is trial 14 with value: 0.6092105263157894.\n"
     ]
    },
    {
     "name": "stdout",
     "output_type": "stream",
     "text": [
      "Trial 15: 0.6092105263157894\n"
     ]
    },
    {
     "name": "stderr",
     "output_type": "stream",
     "text": [
      "[I 2025-03-06 16:54:14,490] Trial 16 finished with value: 0.6092105263157894 and parameters: {'batch_size': 1024, 'inner_dim': 32, 'lr': 1e-05, 'weight_decay': 0.001}. Best is trial 14 with value: 0.6092105263157894.\n"
     ]
    },
    {
     "name": "stdout",
     "output_type": "stream",
     "text": [
      "Trial 16: 0.6092105263157894\n"
     ]
    },
    {
     "name": "stderr",
     "output_type": "stream",
     "text": [
      "[I 2025-03-06 16:54:37,028] Trial 17 finished with value: 0.6078947368421053 and parameters: {'batch_size': 1024, 'inner_dim': 8, 'lr': 1e-05, 'weight_decay': 0.001}. Best is trial 14 with value: 0.6092105263157894.\n"
     ]
    },
    {
     "name": "stdout",
     "output_type": "stream",
     "text": [
      "Trial 17: 0.6078947368421053\n"
     ]
    },
    {
     "name": "stderr",
     "output_type": "stream",
     "text": [
      "[I 2025-03-06 16:55:00,418] Trial 18 finished with value: 0.6657894736842105 and parameters: {'batch_size': 1024, 'inner_dim': 64, 'lr': 1e-05, 'weight_decay': 0.01}. Best is trial 18 with value: 0.6657894736842105.\n"
     ]
    },
    {
     "name": "stdout",
     "output_type": "stream",
     "text": [
      "Trial 18: 0.6657894736842105\n"
     ]
    },
    {
     "name": "stderr",
     "output_type": "stream",
     "text": [
      "[I 2025-03-06 16:55:23,879] Trial 19 finished with value: 0.6657894736842105 and parameters: {'batch_size': 1024, 'inner_dim': 64, 'lr': 1e-05, 'weight_decay': 0.01}. Best is trial 18 with value: 0.6657894736842105.\n"
     ]
    },
    {
     "name": "stdout",
     "output_type": "stream",
     "text": [
      "Trial 19: 0.6657894736842105\n"
     ]
    },
    {
     "name": "stderr",
     "output_type": "stream",
     "text": [
      "[I 2025-03-06 16:55:47,372] Trial 20 finished with value: 0.6526315789473685 and parameters: {'batch_size': 1024, 'inner_dim': 64, 'lr': 0.0001, 'weight_decay': 0.01}. Best is trial 18 with value: 0.6657894736842105.\n"
     ]
    },
    {
     "name": "stdout",
     "output_type": "stream",
     "text": [
      "Trial 20: 0.6526315789473685\n"
     ]
    },
    {
     "name": "stderr",
     "output_type": "stream",
     "text": [
      "[I 2025-03-06 16:56:10,661] Trial 21 finished with value: 0.6526315789473685 and parameters: {'batch_size': 1024, 'inner_dim': 64, 'lr': 0.0001, 'weight_decay': 0.01}. Best is trial 18 with value: 0.6657894736842105.\n"
     ]
    },
    {
     "name": "stdout",
     "output_type": "stream",
     "text": [
      "Trial 21: 0.6526315789473685\n"
     ]
    },
    {
     "name": "stderr",
     "output_type": "stream",
     "text": [
      "[I 2025-03-06 16:56:35,060] Trial 22 finished with value: 0.6526315789473685 and parameters: {'batch_size': 1024, 'inner_dim': 64, 'lr': 0.0001, 'weight_decay': 0.01}. Best is trial 18 with value: 0.6657894736842105.\n"
     ]
    },
    {
     "name": "stdout",
     "output_type": "stream",
     "text": [
      "Trial 22: 0.6526315789473685\n"
     ]
    },
    {
     "name": "stderr",
     "output_type": "stream",
     "text": [
      "[I 2025-03-06 16:56:58,601] Trial 23 finished with value: 0.6526315789473685 and parameters: {'batch_size': 1024, 'inner_dim': 64, 'lr': 0.0001, 'weight_decay': 0.01}. Best is trial 18 with value: 0.6657894736842105.\n"
     ]
    },
    {
     "name": "stdout",
     "output_type": "stream",
     "text": [
      "Trial 23: 0.6526315789473685\n"
     ]
    },
    {
     "name": "stderr",
     "output_type": "stream",
     "text": [
      "[I 2025-03-06 16:57:21,929] Trial 24 finished with value: 0.6657894736842105 and parameters: {'batch_size': 1024, 'inner_dim': 64, 'lr': 1e-05, 'weight_decay': 0.01}. Best is trial 18 with value: 0.6657894736842105.\n"
     ]
    },
    {
     "name": "stdout",
     "output_type": "stream",
     "text": [
      "Trial 24: 0.6657894736842105\n"
     ]
    },
    {
     "name": "stderr",
     "output_type": "stream",
     "text": [
      "[I 2025-03-06 16:57:45,610] Trial 25 finished with value: 0.6657894736842105 and parameters: {'batch_size': 1024, 'inner_dim': 64, 'lr': 1e-05, 'weight_decay': 0.01}. Best is trial 18 with value: 0.6657894736842105.\n"
     ]
    },
    {
     "name": "stdout",
     "output_type": "stream",
     "text": [
      "Trial 25: 0.6657894736842105\n"
     ]
    },
    {
     "name": "stderr",
     "output_type": "stream",
     "text": [
      "[I 2025-03-06 16:58:08,006] Trial 26 finished with value: 0.6657894736842105 and parameters: {'batch_size': 1024, 'inner_dim': 64, 'lr': 1e-05, 'weight_decay': 0.01}. Best is trial 18 with value: 0.6657894736842105.\n"
     ]
    },
    {
     "name": "stdout",
     "output_type": "stream",
     "text": [
      "Trial 26: 0.6657894736842105\n"
     ]
    },
    {
     "name": "stderr",
     "output_type": "stream",
     "text": [
      "[I 2025-03-06 16:58:31,960] Trial 27 finished with value: 0.6657894736842105 and parameters: {'batch_size': 3540, 'inner_dim': 64, 'lr': 1e-05, 'weight_decay': 0.0}. Best is trial 18 with value: 0.6657894736842105.\n"
     ]
    },
    {
     "name": "stdout",
     "output_type": "stream",
     "text": [
      "Trial 27: 0.6657894736842105\n"
     ]
    },
    {
     "name": "stderr",
     "output_type": "stream",
     "text": [
      "[I 2025-03-06 16:58:55,677] Trial 28 finished with value: 0.6657894736842105 and parameters: {'batch_size': 512, 'inner_dim': 64, 'lr': 1e-05, 'weight_decay': 0.01}. Best is trial 18 with value: 0.6657894736842105.\n"
     ]
    },
    {
     "name": "stdout",
     "output_type": "stream",
     "text": [
      "Trial 28: 0.6657894736842105\n"
     ]
    },
    {
     "name": "stderr",
     "output_type": "stream",
     "text": [
      "[I 2025-03-06 16:59:19,017] Trial 29 finished with value: 0.5644736842105263 and parameters: {'batch_size': 3540, 'inner_dim': 64, 'lr': 0.001, 'weight_decay': 0.01}. Best is trial 18 with value: 0.6657894736842105.\n"
     ]
    },
    {
     "name": "stdout",
     "output_type": "stream",
     "text": [
      "Trial 29: 0.5644736842105263\n"
     ]
    },
    {
     "name": "stderr",
     "output_type": "stream",
     "text": [
      "[I 2025-03-06 16:59:42,281] Trial 30 finished with value: 0.6657894736842105 and parameters: {'batch_size': 1024, 'inner_dim': 64, 'lr': 1e-05, 'weight_decay': 0.01}. Best is trial 18 with value: 0.6657894736842105.\n"
     ]
    },
    {
     "name": "stdout",
     "output_type": "stream",
     "text": [
      "Trial 30: 0.6657894736842105\n"
     ]
    },
    {
     "name": "stderr",
     "output_type": "stream",
     "text": [
      "[I 2025-03-06 17:00:05,553] Trial 31 finished with value: 0.6657894736842105 and parameters: {'batch_size': 1024, 'inner_dim': 64, 'lr': 1e-05, 'weight_decay': 0.01}. Best is trial 18 with value: 0.6657894736842105.\n"
     ]
    },
    {
     "name": "stdout",
     "output_type": "stream",
     "text": [
      "Trial 31: 0.6657894736842105\n"
     ]
    },
    {
     "name": "stderr",
     "output_type": "stream",
     "text": [
      "[I 2025-03-06 17:00:28,838] Trial 32 finished with value: 0.6657894736842105 and parameters: {'batch_size': 1024, 'inner_dim': 64, 'lr': 1e-05, 'weight_decay': 0.01}. Best is trial 18 with value: 0.6657894736842105.\n"
     ]
    },
    {
     "name": "stdout",
     "output_type": "stream",
     "text": [
      "Trial 32: 0.6657894736842105\n"
     ]
    },
    {
     "name": "stderr",
     "output_type": "stream",
     "text": [
      "[I 2025-03-06 17:00:52,160] Trial 33 finished with value: 0.6657894736842105 and parameters: {'batch_size': 1024, 'inner_dim': 64, 'lr': 1e-05, 'weight_decay': 0.01}. Best is trial 18 with value: 0.6657894736842105.\n"
     ]
    },
    {
     "name": "stdout",
     "output_type": "stream",
     "text": [
      "Trial 33: 0.6657894736842105\n"
     ]
    },
    {
     "name": "stderr",
     "output_type": "stream",
     "text": [
      "[I 2025-03-06 17:01:15,838] Trial 34 finished with value: 0.5394736842105263 and parameters: {'batch_size': 512, 'inner_dim': 16, 'lr': 1e-05, 'weight_decay': 0.01}. Best is trial 18 with value: 0.6657894736842105.\n"
     ]
    },
    {
     "name": "stdout",
     "output_type": "stream",
     "text": [
      "Trial 34: 0.5394736842105263\n"
     ]
    },
    {
     "name": "stderr",
     "output_type": "stream",
     "text": [
      "[I 2025-03-06 17:01:38,448] Trial 35 finished with value: 0.588157894736842 and parameters: {'batch_size': 1024, 'inner_dim': 64, 'lr': 0.001, 'weight_decay': 5}. Best is trial 18 with value: 0.6657894736842105.\n"
     ]
    },
    {
     "name": "stdout",
     "output_type": "stream",
     "text": [
      "Trial 35: 0.588157894736842\n"
     ]
    },
    {
     "name": "stderr",
     "output_type": "stream",
     "text": [
      "[I 2025-03-06 17:02:02,234] Trial 36 finished with value: 0.6657894736842105 and parameters: {'batch_size': 1024, 'inner_dim': 64, 'lr': 1e-05, 'weight_decay': 0.0}. Best is trial 18 with value: 0.6657894736842105.\n"
     ]
    },
    {
     "name": "stdout",
     "output_type": "stream",
     "text": [
      "Trial 36: 0.6657894736842105\n"
     ]
    },
    {
     "name": "stderr",
     "output_type": "stream",
     "text": [
      "[I 2025-03-06 17:02:27,470] Trial 37 finished with value: 0.6078947368421053 and parameters: {'batch_size': 1024, 'inner_dim': 8, 'lr': 1e-05, 'weight_decay': 0.01}. Best is trial 18 with value: 0.6657894736842105.\n"
     ]
    },
    {
     "name": "stdout",
     "output_type": "stream",
     "text": [
      "Trial 37: 0.6078947368421053\n"
     ]
    },
    {
     "name": "stderr",
     "output_type": "stream",
     "text": [
      "[I 2025-03-06 17:02:53,775] Trial 38 finished with value: 0.631578947368421 and parameters: {'batch_size': 512, 'inner_dim': 16, 'lr': 0.0005, 'weight_decay': 5}. Best is trial 18 with value: 0.6657894736842105.\n"
     ]
    },
    {
     "name": "stdout",
     "output_type": "stream",
     "text": [
      "Trial 38: 0.631578947368421\n"
     ]
    },
    {
     "name": "stderr",
     "output_type": "stream",
     "text": [
      "[I 2025-03-06 17:03:17,368] Trial 39 finished with value: 0.5763157894736842 and parameters: {'batch_size': 1770, 'inner_dim': 64, 'lr': 0.0005, 'weight_decay': 0.01}. Best is trial 18 with value: 0.6657894736842105.\n"
     ]
    },
    {
     "name": "stdout",
     "output_type": "stream",
     "text": [
      "Trial 39: 0.5763157894736842\n"
     ]
    },
    {
     "name": "stderr",
     "output_type": "stream",
     "text": [
      "[I 2025-03-06 17:03:41,274] Trial 40 finished with value: 0.6657894736842105 and parameters: {'batch_size': 3540, 'inner_dim': 64, 'lr': 1e-05, 'weight_decay': 1}. Best is trial 18 with value: 0.6657894736842105.\n"
     ]
    },
    {
     "name": "stdout",
     "output_type": "stream",
     "text": [
      "Trial 40: 0.6657894736842105\n"
     ]
    },
    {
     "name": "stderr",
     "output_type": "stream",
     "text": [
      "[I 2025-03-06 17:04:04,986] Trial 41 finished with value: 0.6657894736842105 and parameters: {'batch_size': 1024, 'inner_dim': 64, 'lr': 1e-05, 'weight_decay': 0.01}. Best is trial 18 with value: 0.6657894736842105.\n"
     ]
    },
    {
     "name": "stdout",
     "output_type": "stream",
     "text": [
      "Trial 41: 0.6657894736842105\n"
     ]
    },
    {
     "name": "stderr",
     "output_type": "stream",
     "text": [
      "[I 2025-03-06 17:04:28,627] Trial 42 finished with value: 0.6657894736842105 and parameters: {'batch_size': 1024, 'inner_dim': 64, 'lr': 1e-05, 'weight_decay': 0.01}. Best is trial 18 with value: 0.6657894736842105.\n"
     ]
    },
    {
     "name": "stdout",
     "output_type": "stream",
     "text": [
      "Trial 42: 0.6657894736842105\n"
     ]
    },
    {
     "name": "stderr",
     "output_type": "stream",
     "text": [
      "[I 2025-03-06 17:04:51,524] Trial 43 finished with value: 0.6657894736842105 and parameters: {'batch_size': 1024, 'inner_dim': 64, 'lr': 1e-05, 'weight_decay': 0.01}. Best is trial 18 with value: 0.6657894736842105.\n"
     ]
    },
    {
     "name": "stdout",
     "output_type": "stream",
     "text": [
      "Trial 43: 0.6657894736842105\n"
     ]
    },
    {
     "name": "stderr",
     "output_type": "stream",
     "text": [
      "[I 2025-03-06 17:05:14,832] Trial 44 finished with value: 0.21710526315789475 and parameters: {'batch_size': 1024, 'inner_dim': 8, 'lr': 0.001, 'weight_decay': 0.01}. Best is trial 18 with value: 0.6657894736842105.\n"
     ]
    },
    {
     "name": "stdout",
     "output_type": "stream",
     "text": [
      "Trial 44: 0.21710526315789475\n"
     ]
    },
    {
     "name": "stderr",
     "output_type": "stream",
     "text": [
      "[I 2025-03-06 17:05:39,790] Trial 45 finished with value: 0.6657894736842105 and parameters: {'batch_size': 1024, 'inner_dim': 64, 'lr': 1e-05, 'weight_decay': 0.01}. Best is trial 18 with value: 0.6657894736842105.\n"
     ]
    },
    {
     "name": "stdout",
     "output_type": "stream",
     "text": [
      "Trial 45: 0.6657894736842105\n"
     ]
    },
    {
     "name": "stderr",
     "output_type": "stream",
     "text": [
      "[I 2025-03-06 17:06:03,972] Trial 46 finished with value: 0.5394736842105263 and parameters: {'batch_size': 1024, 'inner_dim': 16, 'lr': 1e-05, 'weight_decay': 1}. Best is trial 18 with value: 0.6657894736842105.\n"
     ]
    },
    {
     "name": "stdout",
     "output_type": "stream",
     "text": [
      "Trial 46: 0.5394736842105263\n"
     ]
    },
    {
     "name": "stderr",
     "output_type": "stream",
     "text": [
      "[I 2025-03-06 17:06:27,627] Trial 47 finished with value: 0.5828947368421052 and parameters: {'batch_size': 1770, 'inner_dim': 64, 'lr': 0.0005, 'weight_decay': 5}. Best is trial 18 with value: 0.6657894736842105.\n"
     ]
    },
    {
     "name": "stdout",
     "output_type": "stream",
     "text": [
      "Trial 47: 0.5828947368421052\n"
     ]
    },
    {
     "name": "stderr",
     "output_type": "stream",
     "text": [
      "[I 2025-03-06 17:06:50,677] Trial 48 finished with value: 0.6657894736842105 and parameters: {'batch_size': 1024, 'inner_dim': 64, 'lr': 1e-05, 'weight_decay': 0.01}. Best is trial 18 with value: 0.6657894736842105.\n"
     ]
    },
    {
     "name": "stdout",
     "output_type": "stream",
     "text": [
      "Trial 48: 0.6657894736842105\n"
     ]
    },
    {
     "name": "stderr",
     "output_type": "stream",
     "text": [
      "[I 2025-03-06 17:07:14,205] Trial 49 finished with value: 0.6657894736842105 and parameters: {'batch_size': 512, 'inner_dim': 64, 'lr': 1e-05, 'weight_decay': 0.0}. Best is trial 18 with value: 0.6657894736842105.\n"
     ]
    },
    {
     "name": "stdout",
     "output_type": "stream",
     "text": [
      "Trial 49: 0.6657894736842105\n",
      "Best DeepSurv params: {'batch_size': 1024, 'inner_dim': 64, 'lr': 1e-05, 'weight_decay': 0.01}\n"
     ]
    }
   ],
   "source": [
    "# Optuna 스터디 생성 및 최적화\n",
    "study = optuna.create_study(study_name=model_name+str(datetime.datetime.now()),\n",
    "                            direction=\"maximize\",\n",
    "                            sampler=optuna.samplers.TPESampler(seed=random_state))\n",
    "study.optimize(lambda trial: objective_deep_surv(trial, stable_params), n_trials=50)\n",
    "best_params = study.best_trial.params\n",
    "print(\"Best DeepSurv params:\", best_params) # 50번의 Trial로 찾은 최선의 Hyperparameter"
   ]
  },
  {
   "cell_type": "code",
   "execution_count": 6,
   "id": "d82124dc-7a23-421e-938f-7591b5131da9",
   "metadata": {},
   "outputs": [
    {
     "ename": "KeyboardInterrupt",
     "evalue": "",
     "output_type": "error",
     "traceback": [
      "\u001b[0;31m---------------------------------------------------------------------------\u001b[0m",
      "\u001b[0;31mKeyboardInterrupt\u001b[0m                         Traceback (most recent call last)",
      "Cell \u001b[0;32mIn[6], line 14\u001b[0m\n\u001b[1;32m     10\u001b[0m dataset_train \u001b[38;5;241m=\u001b[39m SimpleDataset(X_train_fold, \n\u001b[1;32m     11\u001b[0m                               y_train[\u001b[38;5;124m\"\u001b[39m\u001b[38;5;124mvit_status\u001b[39m\u001b[38;5;124m\"\u001b[39m][train_fold],\n\u001b[1;32m     12\u001b[0m                               y_train[\u001b[38;5;124m\"\u001b[39m\u001b[38;5;124msurvival_time\u001b[39m\u001b[38;5;124m\"\u001b[39m][train_fold])\n\u001b[1;32m     13\u001b[0m \u001b[38;5;66;03m# 모델 학습 (train_model 함수 호출)\u001b[39;00m\n\u001b[0;32m---> 14\u001b[0m best_model, losses, test_eval \u001b[38;5;241m=\u001b[39m \u001b[43mtrain_model\u001b[49m\u001b[43m(\u001b[49m\u001b[43mdataset_train\u001b[49m\u001b[43m,\u001b[49m\u001b[43m \u001b[49m\u001b[43m{\u001b[49m\u001b[38;5;241;43m*\u001b[39;49m\u001b[38;5;241;43m*\u001b[39;49m\u001b[43mstable_params\u001b[49m\u001b[43m,\u001b[49m\u001b[43m \u001b[49m\u001b[38;5;241;43m*\u001b[39;49m\u001b[38;5;241;43m*\u001b[39;49m\u001b[43mbest_params\u001b[49m\u001b[43m}\u001b[49m\u001b[43m)\u001b[49m\n\u001b[1;32m     16\u001b[0m best_model\u001b[38;5;241m.\u001b[39meval()\n\u001b[1;32m     17\u001b[0m \u001b[38;5;66;03m# 예측: device에 맞게 Tensor 변환 후 예측 수행\u001b[39;00m\n",
      "File \u001b[0;32m~/KJH/통계상담_황인경의뢰자/training_survival_analysis.py:70\u001b[0m, in \u001b[0;36mtrain_model\u001b[0;34m(dataset, params, writer, **kwargs)\u001b[0m\n\u001b[1;32m     68\u001b[0m         \u001b[38;5;28;01melse\u001b[39;00m:\n\u001b[1;32m     69\u001b[0m             y_pred \u001b[38;5;241m=\u001b[39m y_pred\u001b[38;5;241m.\u001b[39mdetach()\u001b[38;5;241m.\u001b[39mcpu()\u001b[38;5;241m.\u001b[39mnumpy()\n\u001b[0;32m---> 70\u001b[0m             c_index \u001b[38;5;241m+\u001b[39m\u001b[38;5;241m=\u001b[39m \u001b[43mconcordance_index_censored\u001b[49m\u001b[43m(\u001b[49m\u001b[43my_event\u001b[49m\u001b[38;5;241;43m.\u001b[39;49m\u001b[43mdetach\u001b[49m\u001b[43m(\u001b[49m\u001b[43m)\u001b[49m\u001b[38;5;241;43m.\u001b[39;49m\u001b[43mcpu\u001b[49m\u001b[43m(\u001b[49m\u001b[43m)\u001b[49m\u001b[38;5;241;43m.\u001b[39;49m\u001b[43mnumpy\u001b[49m\u001b[43m(\u001b[49m\u001b[43m)\u001b[49m\u001b[38;5;241;43m.\u001b[39;49m\u001b[43mastype\u001b[49m\u001b[43m(\u001b[49m\u001b[38;5;28;43mbool\u001b[39;49m\u001b[43m)\u001b[49m\u001b[43m,\u001b[49m\n\u001b[1;32m     71\u001b[0m \u001b[43m                                                  \u001b[49m\u001b[43my_time\u001b[49m\u001b[38;5;241;43m.\u001b[39;49m\u001b[43mdetach\u001b[49m\u001b[43m(\u001b[49m\u001b[43m)\u001b[49m\u001b[38;5;241;43m.\u001b[39;49m\u001b[43mcpu\u001b[49m\u001b[43m(\u001b[49m\u001b[43m)\u001b[49m\u001b[38;5;241;43m.\u001b[39;49m\u001b[43mnumpy\u001b[49m\u001b[43m(\u001b[49m\u001b[43m)\u001b[49m\u001b[43m,\u001b[49m\u001b[43m \u001b[49m\u001b[43my_pred\u001b[49m\u001b[43m)\u001b[49m[\u001b[38;5;241m0\u001b[39m]\n\u001b[1;32m     73\u001b[0m \u001b[38;5;66;03m# if epoch % 10 == 0:\u001b[39;00m\n\u001b[1;32m     74\u001b[0m \u001b[38;5;66;03m#     print(f\"Epoch {epoch} - Loss: {loss_train / len(dataloader)}\" +\u001b[39;00m\n\u001b[1;32m     75\u001b[0m \u001b[38;5;66;03m#           f\"- C-Index: {c_index / len(dataloader)}\" +\u001b[39;00m\n\u001b[1;32m     76\u001b[0m \u001b[38;5;66;03m#           f\"- mean y_pred: {y_pred.mean()}\")\u001b[39;00m\n\u001b[1;32m     79\u001b[0m losses\u001b[38;5;241m.\u001b[39mappend(loss_train \u001b[38;5;241m/\u001b[39m \u001b[38;5;28mlen\u001b[39m(dataloader))\n",
      "File \u001b[0;32m~/.local/lib/python3.10/site-packages/sksurv/metrics.py:219\u001b[0m, in \u001b[0;36mconcordance_index_censored\u001b[0;34m(event_indicator, event_time, estimate, tied_tol)\u001b[0m\n\u001b[1;32m    215\u001b[0m event_indicator, event_time, estimate \u001b[38;5;241m=\u001b[39m _check_inputs(event_indicator, event_time, estimate)\n\u001b[1;32m    217\u001b[0m w \u001b[38;5;241m=\u001b[39m np\u001b[38;5;241m.\u001b[39mones_like(estimate)\n\u001b[0;32m--> 219\u001b[0m \u001b[38;5;28;01mreturn\u001b[39;00m \u001b[43m_estimate_concordance_index\u001b[49m\u001b[43m(\u001b[49m\u001b[43mevent_indicator\u001b[49m\u001b[43m,\u001b[49m\u001b[43m \u001b[49m\u001b[43mevent_time\u001b[49m\u001b[43m,\u001b[49m\u001b[43m \u001b[49m\u001b[43mestimate\u001b[49m\u001b[43m,\u001b[49m\u001b[43m \u001b[49m\u001b[43mw\u001b[49m\u001b[43m,\u001b[49m\u001b[43m \u001b[49m\u001b[43mtied_tol\u001b[49m\u001b[43m)\u001b[49m\n",
      "File \u001b[0;32m~/.local/lib/python3.10/site-packages/sksurv/metrics.py:134\u001b[0m, in \u001b[0;36m_estimate_concordance_index\u001b[0;34m(event_indicator, event_time, estimate, weights, tied_tol)\u001b[0m\n\u001b[1;32m    132\u001b[0m \u001b[38;5;66;03m# an event should have a higher score\u001b[39;00m\n\u001b[1;32m    133\u001b[0m con \u001b[38;5;241m=\u001b[39m est \u001b[38;5;241m<\u001b[39m est_i\n\u001b[0;32m--> 134\u001b[0m n_con \u001b[38;5;241m=\u001b[39m \u001b[43mcon\u001b[49m\u001b[43m[\u001b[49m\u001b[38;5;241;43m~\u001b[39;49m\u001b[43mties\u001b[49m\u001b[43m]\u001b[49m\u001b[38;5;241;43m.\u001b[39;49m\u001b[43msum\u001b[49m\u001b[43m(\u001b[49m\u001b[43m)\u001b[49m\n\u001b[1;32m    136\u001b[0m numerator \u001b[38;5;241m+\u001b[39m\u001b[38;5;241m=\u001b[39m w_i \u001b[38;5;241m*\u001b[39m n_con \u001b[38;5;241m+\u001b[39m \u001b[38;5;241m0.5\u001b[39m \u001b[38;5;241m*\u001b[39m w_i \u001b[38;5;241m*\u001b[39m n_ties\n\u001b[1;32m    137\u001b[0m denominator \u001b[38;5;241m+\u001b[39m\u001b[38;5;241m=\u001b[39m w_i \u001b[38;5;241m*\u001b[39m mask\u001b[38;5;241m.\u001b[39msum()\n",
      "File \u001b[0;32m/usr/local/lib/python3.10/dist-packages/numpy/core/_methods.py:47\u001b[0m, in \u001b[0;36m_sum\u001b[0;34m(a, axis, dtype, out, keepdims, initial, where)\u001b[0m\n\u001b[1;32m     43\u001b[0m \u001b[38;5;28;01mdef\u001b[39;00m \u001b[38;5;21m_amin\u001b[39m(a, axis\u001b[38;5;241m=\u001b[39m\u001b[38;5;28;01mNone\u001b[39;00m, out\u001b[38;5;241m=\u001b[39m\u001b[38;5;28;01mNone\u001b[39;00m, keepdims\u001b[38;5;241m=\u001b[39m\u001b[38;5;28;01mFalse\u001b[39;00m,\n\u001b[1;32m     44\u001b[0m           initial\u001b[38;5;241m=\u001b[39m_NoValue, where\u001b[38;5;241m=\u001b[39m\u001b[38;5;28;01mTrue\u001b[39;00m):\n\u001b[1;32m     45\u001b[0m     \u001b[38;5;28;01mreturn\u001b[39;00m umr_minimum(a, axis, \u001b[38;5;28;01mNone\u001b[39;00m, out, keepdims, initial, where)\n\u001b[0;32m---> 47\u001b[0m \u001b[38;5;28;01mdef\u001b[39;00m \u001b[38;5;21m_sum\u001b[39m(a, axis\u001b[38;5;241m=\u001b[39m\u001b[38;5;28;01mNone\u001b[39;00m, dtype\u001b[38;5;241m=\u001b[39m\u001b[38;5;28;01mNone\u001b[39;00m, out\u001b[38;5;241m=\u001b[39m\u001b[38;5;28;01mNone\u001b[39;00m, keepdims\u001b[38;5;241m=\u001b[39m\u001b[38;5;28;01mFalse\u001b[39;00m,\n\u001b[1;32m     48\u001b[0m          initial\u001b[38;5;241m=\u001b[39m_NoValue, where\u001b[38;5;241m=\u001b[39m\u001b[38;5;28;01mTrue\u001b[39;00m):\n\u001b[1;32m     49\u001b[0m     \u001b[38;5;28;01mreturn\u001b[39;00m umr_sum(a, axis, dtype, out, keepdims, initial, where)\n\u001b[1;32m     51\u001b[0m \u001b[38;5;28;01mdef\u001b[39;00m \u001b[38;5;21m_prod\u001b[39m(a, axis\u001b[38;5;241m=\u001b[39m\u001b[38;5;28;01mNone\u001b[39;00m, dtype\u001b[38;5;241m=\u001b[39m\u001b[38;5;28;01mNone\u001b[39;00m, out\u001b[38;5;241m=\u001b[39m\u001b[38;5;28;01mNone\u001b[39;00m, keepdims\u001b[38;5;241m=\u001b[39m\u001b[38;5;28;01mFalse\u001b[39;00m,\n\u001b[1;32m     52\u001b[0m           initial\u001b[38;5;241m=\u001b[39m_NoValue, where\u001b[38;5;241m=\u001b[39m\u001b[38;5;28;01mTrue\u001b[39;00m):\n",
      "\u001b[0;31mKeyboardInterrupt\u001b[0m: "
     ]
    }
   ],
   "source": [
    "# 각 fold의 결과를 저장할 딕셔너리 생성\n",
    "fold_scores = {}\n",
    "\n",
    "# 최종 모델 학습 및 결과 저장\n",
    "for i, (train_fold, val_fold) in enumerate(kfold.split(X_train, y_train)):\n",
    "    X_train_fold = X_train.iloc[train_fold]\n",
    "    X_val_fold = X_train.iloc[val_fold]\n",
    "    \n",
    "    # 학습 데이터셋 생성\n",
    "    dataset_train = SimpleDataset(X_train_fold, \n",
    "                                  y_train[\"vit_status\"][train_fold],\n",
    "                                  y_train[\"survival_time\"][train_fold])\n",
    "    # 모델 학습 (train_model 함수 호출)\n",
    "    best_model, losses, test_eval = train_model(dataset_train, {**stable_params, **best_params})\n",
    "    \n",
    "    best_model.eval()\n",
    "    # 예측: device에 맞게 Tensor 변환 후 예측 수행\n",
    "    y_pred = best_model(torch.Tensor(X_val_fold.values).to(stable_params[\"device\"])).detach().cpu().numpy()\n",
    "    \n",
    "    # 평가: evaluate_survival_model 함수 사용\n",
    "    scores = evaluate_survival_model(best_model, X_val_fold.values, y_train[train_fold], y_train[val_fold])\n",
    "    print(f\"Final DeepSurv Scores in Fold {i}: {scores}\")\n",
    "    fold_scores[f\"fold_{i}\"] = scores  # scores가 dict 형식일 경우 그대로 저장\n",
    "    \n",
    "    # Permutation Importance 계산 및 저장\n",
    "    result = permutation_importance(\n",
    "        best_model, X_val_fold, y_train[val_fold], n_repeats=15, random_state=random_state)\n",
    "    result_dict = {k: result[k] for k in (\"importances_mean\", \"importances_std\")}\n",
    "    permutation_importances = pd.DataFrame(result_dict, index=X_val_fold.columns).sort_values(by=\"importances_mean\", ascending=False)\n",
    "    \n",
    "    print(\"Permutation Importances:\")\n",
    "    print(permutation_importances)\n",
    "    \n",
    "    # 각 fold의 permutation importance CSV 파일로 저장\n",
    "    perm_imp_path = f\"DeepSurv_permutation_importances_fold_{i}.csv\"\n",
    "    permutation_importances.to_csv(perm_imp_path, encoding = 'utf-8')\n",
    "    print(f\"Permutation importances saved to {perm_imp_path}\")\n",
    "\n",
    "    # ---- SHAP values 저장 ----\n",
    "    explainer = shap.Explainer(best_model.predict, X_val_fold.values, feature_names=X_val_fold.columns.tolist())  \n",
    "    shap_values = explainer(X_val_fold.values)\n",
    "    \n",
    "    # ---- SHAP Beeswarm Plot 저장 ----\n",
    "    plt.figure(figsize=(10, 6))  # 적절한 크기 설정\n",
    "    shap.plots.beeswarm(shap_values, show=False)\n",
    "    \n",
    "    beeswarm_path = f\"DeepSurv_beeswarm_fold_{i}.png\"\n",
    "    plt.tight_layout()  # 여백 자동 조정\n",
    "    plt.savefig(beeswarm_path, dpi=300, bbox_inches=\"tight\")  # 잘림 방지\n",
    "    plt.close()  # 메모리 정리\n",
    "    print(f\"Beeswarm plot saved to {beeswarm_path}\")\n",
    "\n",
    "# Final Scores\n",
    "fold_scores = pd.DataFrame(fold_scores).T\n",
    "final_scores = fold_scores.mean(skipna=True)\n",
    "print(final_scores)"
   ]
  },
  {
   "cell_type": "code",
   "execution_count": 7,
   "id": "ee646900-23e2-410c-baac-15eb76837b65",
   "metadata": {},
   "outputs": [
    {
     "name": "stdout",
     "output_type": "stream",
     "text": [
      "Series([], dtype: float64)\n"
     ]
    }
   ],
   "source": [
    "# Final Scores\n",
    "fold_scores = pd.DataFrame(fold_scores).T\n",
    "final_scores = fold_scores.mean(skipna=True)\n",
    "print(final_scores)"
   ]
  }
 ],
 "metadata": {
  "kernelspec": {
   "display_name": "Python 3 (ipykernel)",
   "language": "python",
   "name": "python3"
  },
  "language_info": {
   "codemirror_mode": {
    "name": "ipython",
    "version": 3
   },
   "file_extension": ".py",
   "mimetype": "text/x-python",
   "name": "python",
   "nbconvert_exporter": "python",
   "pygments_lexer": "ipython3",
   "version": "3.10.12"
  }
 },
 "nbformat": 4,
 "nbformat_minor": 5
}
